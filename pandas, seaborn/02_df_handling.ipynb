{
 "cells": [
  {
   "cell_type": "code",
   "execution_count": 1,
   "metadata": {},
   "outputs": [],
   "source": [
    "import os\n",
    "import numpy as np\n",
    "import pandas as pd\n",
    "import matplotlib.pyplot as plt\n",
    "import seaborn as sns"
   ]
  },
  {
   "cell_type": "code",
   "execution_count": 2,
   "metadata": {},
   "outputs": [],
   "source": [
    "fpath = \"./dataset\""
   ]
  },
  {
   "cell_type": "code",
   "execution_count": 3,
   "metadata": {},
   "outputs": [
    {
     "name": "stdout",
     "output_type": "stream",
     "text": [
      "   수학  영어 성별     합격\n",
      "0  90  98  남   True\n",
      "1  80  89  남  False\n",
      "2  90  95  여   True\n",
      "(3, 4)\n",
      "<class 'pandas.core.frame.DataFrame'>\n",
      "RangeIndex: 3 entries, 0 to 2\n",
      "Data columns (total 4 columns):\n",
      " #   Column  Non-Null Count  Dtype \n",
      "---  ------  --------------  ----- \n",
      " 0   수학      3 non-null      int64 \n",
      " 1   영어      3 non-null      int64 \n",
      " 2   성별      3 non-null      object\n",
      " 3   합격      3 non-null      bool  \n",
      "dtypes: bool(1), int64(2), object(1)\n",
      "memory usage: 203.0+ bytes\n",
      "None\n"
     ]
    }
   ],
   "source": [
    "exam_data = {\n",
    "    \"수학\": [90, 80, 90],\n",
    "    \"영어\": [98, 89, 95],\n",
    "    \"성별\": [\"남\", \"남\", \"여\"],\n",
    "    \"합격\": [True, False, True]\n",
    "}\n",
    "\n",
    "exam_df = pd.DataFrame(exam_data)\n",
    "print(exam_df)\n",
    "print(exam_df.shape)\n",
    "print(exam_df.info())"
   ]
  },
  {
   "cell_type": "code",
   "execution_count": 4,
   "metadata": {},
   "outputs": [
    {
     "name": "stdout",
     "output_type": "stream",
     "text": [
      "   color size  price classlabel\n",
      "0  green    M   13.5     class1\n",
      "1    red    L   15.3     class2\n",
      "2   blue   XL   10.1     class1\n"
     ]
    }
   ],
   "source": [
    "list_df = [[\"green\", \"M\", 13.5, \"class1\"],\n",
    "           [\"red\", \"L\", 15.3, \"class2\"],\n",
    "           [\"blue\", \"XL\", 10.1, \"class1\"]]\n",
    "df = pd.DataFrame(list_df, columns=[\"color\", \"size\", \"price\", \"classlabel\"])\n",
    "print(df)"
   ]
  },
  {
   "cell_type": "code",
   "execution_count": 7,
   "metadata": {},
   "outputs": [
    {
     "name": "stdout",
     "output_type": "stream",
     "text": [
      "   color size  price classlabel\n",
      "0  green    M   13.5     class1\n",
      "1    red    L   15.3     class2\n",
      "2   blue   XL   10.1     class1\n",
      "      색깔  크기    가격     클래스\n",
      "1  green   M  13.5  class1\n",
      "2    red   L  15.3  class2\n",
      "3   blue  XL  10.1  class1\n"
     ]
    }
   ],
   "source": [
    "# 변수명 바꾸기\n",
    "list_df = [[\"green\", \"M\", 13.5, \"class1\"],\n",
    "           [\"red\", \"L\", 15.3, \"class2\"],\n",
    "           [\"blue\", \"XL\", 10.1, \"class1\"]]\n",
    "df = pd.DataFrame(list_df, columns=[\"color\", \"size\", \"price\", \"classlabel\"])\n",
    "print(df)\n",
    "\n",
    "df.rename(columns = {\"color\":\"색깔\", \"size\":\"크기\",\n",
    "                     \"price\": \"가격\", \"classlabel\": \"클래스\"},\n",
    "          index = {0:1, 1:2, 2:3},\n",
    "                     inplace = True)\n",
    "print(df)"
   ]
  },
  {
   "cell_type": "code",
   "execution_count": 14,
   "metadata": {},
   "outputs": [
    {
     "name": "stdout",
     "output_type": "stream",
     "text": [
      "exam_df = \n",
      "    수학  영어 성별     합격\n",
      "0  90  98  남   True\n",
      "1  80  89  남  False\n",
      "2  90  95  여   True\n",
      "exam_df = \n",
      "    영어 성별     합격\n",
      "0  98  남   True\n",
      "1  89  남  False\n",
      "2  95  여   True\n",
      "exam_df = \n",
      "   성별\n",
      "0  남\n",
      "1  남\n",
      "2  여\n",
      "exam_df = \n",
      "   성별\n",
      "1  남\n",
      "2  여\n"
     ]
    }
   ],
   "source": [
    "## \n",
    "exam_data = {\n",
    "    \"수학\": [90, 80, 90],\n",
    "    \"영어\": [98, 89, 95],\n",
    "    \"성별\": [\"남\", \"남\", \"여\"],\n",
    "    \"합격\": [True, False, True]\n",
    "}\n",
    "\n",
    "exam_df = pd.DataFrame(exam_data)\n",
    "print('exam_df = \\n', exam_df)\n",
    "exam_df.drop(labels = [\"수학\"], axis = 1, inplace = True)\n",
    "print('exam_df = \\n', exam_df)\n",
    "exam_df.drop(labels = [\"영어\", \"합격\"], axis = 1, inplace =True)\n",
    "print('exam_df = \\n', exam_df)\n",
    "exam_df.drop(labels = [0], axis = 0, inplace = True)\n",
    "print('exam_df = \\n', exam_df)"
   ]
  },
  {
   "cell_type": "code",
   "execution_count": 19,
   "metadata": {},
   "outputs": [
    {
     "name": "stdout",
     "output_type": "stream",
     "text": [
      "vor = \n",
      "    group  id time    hz0.04    hz0.08     hz0.1    hz0.16    hz0.32    hz0.64  \\\n",
      "0      1   1  Pre  0.213840  0.717955  0.848727  0.850790  0.802738  0.808393   \n",
      "1      1   2  Pre  0.345725  0.795440  0.781473  0.924972  0.801245  0.803880   \n",
      "2      1   3  Pre  0.376285  0.799327  0.781350  0.777773  0.868007  0.868853   \n",
      "3      1   4  Pre  0.451440  0.771083  0.808645  0.787825  0.839985  0.832352   \n",
      "4      1   5  Pre  0.287360  0.825547  0.831303  0.818332  0.817320  0.816153   \n",
      "\n",
      "        hz1  \n",
      "0  0.738967  \n",
      "1  0.781420  \n",
      "2  0.754252  \n",
      "3  0.818722  \n",
      "4  0.836298  \n",
      "vor = \n",
      "    소속  번호 time    hz0.04    hz0.08     hz0.1    hz0.16    hz0.32    hz0.64  \\\n",
      "0   1   1  Pre  0.213840  0.717955  0.848727  0.850790  0.802738  0.808393   \n",
      "1   1   2  Pre  0.345725  0.795440  0.781473  0.924972  0.801245  0.803880   \n",
      "2   1   3  Pre  0.376285  0.799327  0.781350  0.777773  0.868007  0.868853   \n",
      "3   1   4  Pre  0.451440  0.771083  0.808645  0.787825  0.839985  0.832352   \n",
      "4   1   5  Pre  0.287360  0.825547  0.831303  0.818332  0.817320  0.816153   \n",
      "\n",
      "        hz1  \n",
      "0  0.738967  \n",
      "1  0.781420  \n",
      "2  0.754252  \n",
      "3  0.818722  \n",
      "4  0.836298  \n",
      "vor = \n",
      "   time    hz0.04    hz0.08     hz0.1    hz0.16    hz0.32    hz0.64       hz1\n",
      "0  Pre  0.213840  0.717955  0.848727  0.850790  0.802738  0.808393  0.738967\n",
      "1  Pre  0.345725  0.795440  0.781473  0.924972  0.801245  0.803880  0.781420\n",
      "2  Pre  0.376285  0.799327  0.781350  0.777773  0.868007  0.868853  0.754252\n",
      "3  Pre  0.451440  0.771083  0.808645  0.787825  0.839985  0.832352  0.818722\n",
      "4  Pre  0.287360  0.825547  0.831303  0.818332  0.817320  0.816153  0.836298\n"
     ]
    }
   ],
   "source": [
    "fname = \"vor_r.xlsx\"\n",
    "file = os.path.join(fpath, fname)\n",
    "vor = pd.read_excel(file)\n",
    "print(\"vor = \\n\", vor.head())\n",
    "vor.rename(columns = {\"group\":\"소속\", \"id\":\"번호\"}, inplace = True)\n",
    "print(\"vor = \\n\", vor.head())\n",
    "vor.drop(labels = [\"소속\", \"번호\"], axis = 1, inplace = True)\n",
    "print(\"vor = \\n\", vor.head())\n"
   ]
  },
  {
   "cell_type": "code",
   "execution_count": 28,
   "metadata": {},
   "outputs": [
    {
     "name": "stdout",
     "output_type": "stream",
     "text": [
      "exam_df = \n",
      "    수학  영어 성별     합격\n",
      "0  90  98  남   True\n",
      "1  80  89  남  False\n",
      "2  90  95  여   True\n",
      "**************************************************\n",
      "exam_df = \n",
      "      수학    영어   성별     합격\n",
      "0  90.0  98.0  NaN   True\n",
      "1   NaN   NaN    남  False\n",
      "2  90.0  95.0    여   True\n",
      "**************************************************\n",
      "     수학    영어 성별    합격\n",
      "2  90.0  95.0  여  True\n",
      "**************************************************\n",
      "     수학    영어   성별    합격\n",
      "0  90.0  98.0  NaN  True\n",
      "2  90.0  95.0    여  True\n"
     ]
    }
   ],
   "source": [
    "## drop missing\n",
    "exam_data = {\n",
    "    \"수학\": [90, 80, 90],\n",
    "    \"영어\": [98, 89, 95],\n",
    "    \"성별\": [\"남\", \"남\", \"여\"],\n",
    "    \"합격\": [True, False, True]\n",
    "}\n",
    "\n",
    "exam_df = pd.DataFrame(exam_data)\n",
    "\n",
    "print(\"exam_df = \\n\", exam_df)\n",
    "exam_df.loc[0, \"성별\"] = np.nan\n",
    "exam_df.loc[1, \"수학\":\"영어\"] = None\n",
    "print(\"*\"*50)\n",
    "print(\"exam_df = \\n\", exam_df)\n",
    "\n",
    "print(\"*\"*50)\n",
    "print(exam_df.dropna(axis = 0)) # row\n",
    "print(\"*\"*50)\n",
    "print(exam_df.dropna(axis = 0, subset = [\"수학\"])) # row\n",
    "\n",
    "# print(\"*\"*50)\n",
    "# print(exam_df.dropna(axis = 1)) # column\n"
   ]
  },
  {
   "cell_type": "code",
   "execution_count": 35,
   "metadata": {},
   "outputs": [
    {
     "name": "stdout",
     "output_type": "stream",
     "text": [
      "수학\n",
      "0    90\n",
      "1    80\n",
      "2    90\n",
      "Name: 수학, dtype: int64\n",
      "   수학 성별\n",
      "0  90  남\n",
      "1  80  남\n",
      "2  90  여\n",
      "   수학  영어 성별    합격\n",
      "2  90  95  여  True\n"
     ]
    }
   ],
   "source": [
    "## data indexing\n",
    "exam_data = {\n",
    "    \"수학\": [90, 80, 90],\n",
    "    \"영어\": [98, 89, 95],\n",
    "    \"성별\": [\"남\", \"남\", \"여\"],\n",
    "    \"합격\": [True, False, True]\n",
    "}\n",
    "\n",
    "exam_df = pd.DataFrame(exam_data)\n",
    "\n",
    "## 열변수명\n",
    "print(\"수학\")\n",
    "print(exam_df[\"수학\"])\n",
    "print(exam_df[[\"수학\", \"성별\"]])\n",
    "\n",
    "## 인덱스 (slicing)\n",
    "print(exam_df[2:3])"
   ]
  },
  {
   "cell_type": "code",
   "execution_count": 45,
   "metadata": {},
   "outputs": [
    {
     "name": "stdout",
     "output_type": "stream",
     "text": [
      "   수학  영어 성별     합격\n",
      "0  90  98  남   True\n",
      "1  80  89  남  False\n",
      "2  90  95  여   True\n",
      "**************************************************\n",
      "   수학  영어 성별     합격\n",
      "0  90  98  남   True\n",
      "1  80  89  남  False\n",
      "2  90  95  여   True\n",
      "**************************************************\n",
      "   수학     합격\n",
      "0  90   True\n",
      "1  80  False\n",
      "2  90   True\n",
      "**************************************************\n",
      "   수학  영어 성별\n",
      "1  80  89  남\n",
      "2  90  95  여\n"
     ]
    }
   ],
   "source": [
    "## loc\n",
    "print(exam_df)\n",
    "\n",
    "##\n",
    "print(\"*\"*50)\n",
    "print(exam_df.loc[0:2])\n",
    "\n",
    "##\n",
    "print(\"*\"*50)\n",
    "print(exam_df.loc[:, [\"수학\", \"합격\"]])\n",
    "\n",
    "##\n",
    "print(\"*\"*50)\n",
    "print(exam_df.loc[1:2, \"수학\":\"성별\"])"
   ]
  },
  {
   "cell_type": "code",
   "execution_count": 55,
   "metadata": {},
   "outputs": [
    {
     "name": "stdout",
     "output_type": "stream",
     "text": [
      "   hdz  chestpain  cholesterol  sysbp\n",
      "1  yes       True          208    160\n",
      "2   no      False          282    140\n",
      "3   no      False          235    188\n",
      "4   no       True          277    162\n",
      "5  yes      False          280    122\n",
      "**************************************************\n",
      "2    False\n",
      "4     True\n",
      "Name: chestpain, dtype: bool\n",
      "**************************************************\n",
      "   chestpain  cholesterol  sysbp\n",
      "1       True          208    160\n",
      "2      False          282    140\n",
      "3      False          235    188\n",
      "**************************************************\n",
      "1    yes\n",
      "2     no\n",
      "3     no\n",
      "4     no\n",
      "5    yes\n",
      "Name: hdz, dtype: object\n",
      "   sysbp  cholesterol  chestpain  hdz\n",
      "1    160          208       True  yes\n",
      "2    140          282      False   no\n",
      "3    188          235      False   no\n",
      "4    162          277       True   no\n",
      "5    122          280      False  yes\n"
     ]
    }
   ],
   "source": [
    "df = pd.DataFrame({\n",
    "    'hdz':['yes', 'no', 'no', 'no', 'yes'],\n",
    "    'chestpain': [True, False, False, True, False],\n",
    "    'cholesterol':[208, 282, 235, 277, 280],\n",
    "    'sysbp':[160, 140, 188, 162, 122]\n",
    "}, index = np.arange(1, 6))\n",
    "print(df)\n",
    "############################## loc를 이용한 문제\n",
    "print(\"*\"*50)\n",
    "# 문제1. chestpain 의 3번째와 5번째 자료를 loc index를 이용하여 추출하여라\n",
    "print(df.loc[[2, 4], \"chestpain\"])\n",
    "# 문제2. chestpain, cholesterol, sysbp 의 변수들의 2번째에서 ~ 4번째 자료를 loc index를 이용하여 추출하여라\n",
    "print(\"*\"*50)\n",
    "print(df.loc[1:3, \"chestpain\":\"sysbp\"])\n",
    "# 문제3. hdz 열 전체를 loc index를 이용하여 추출하여라\n",
    "print(\"*\"*50)\n",
    "print(df.loc[:, \"hdz\"])\n",
    "# 문제 4. 열의 순서를 바꾸어서 loc index를 이용하여 추출하여라\n",
    "print(df.loc[:, ::-1])"
   ]
  },
  {
   "cell_type": "code",
   "execution_count": 64,
   "metadata": {},
   "outputs": [
    {
     "name": "stdout",
     "output_type": "stream",
     "text": [
      "   hdz  chestpain  cholesterol  sysbp\n",
      "1  yes       True          208    160\n",
      "2   no      False          282    140\n",
      "3   no      False          235    188\n",
      "4   no       True          277    162\n",
      "5  yes      False          280    122\n",
      "   chestpain  cholesterol\n",
      "1       True          208\n",
      "2      False          282\n",
      "3      False          235\n",
      "4       True          277\n",
      "5      False          280\n"
     ]
    }
   ],
   "source": [
    "df = pd.DataFrame({\n",
    "    'hdz':['yes', 'no', 'no', 'no', 'yes'],\n",
    "    'chestpain': [True, False, False, True, False],\n",
    "    'cholesterol':[208, 282, 235, 277, 280],\n",
    "    'sysbp':[160, 140, 188, 162, 122]\n",
    "}, index = np.arange(1, 6))\n",
    "print(df)\n",
    "\n",
    "print(df.iloc[:, 1:3])"
   ]
  },
  {
   "cell_type": "code",
   "execution_count": 70,
   "metadata": {},
   "outputs": [
    {
     "name": "stdout",
     "output_type": "stream",
     "text": [
      "   수학   코딩  영어 성별     합격   음악\n",
      "0  90   50  98  남   True  100\n",
      "1  80   80  89  남  False   90\n",
      "2  90  100  95  여   True   80\n"
     ]
    },
    {
     "data": {
      "text/html": [
       "<div>\n",
       "<style scoped>\n",
       "    .dataframe tbody tr th:only-of-type {\n",
       "        vertical-align: middle;\n",
       "    }\n",
       "\n",
       "    .dataframe tbody tr th {\n",
       "        vertical-align: top;\n",
       "    }\n",
       "\n",
       "    .dataframe thead th {\n",
       "        text-align: right;\n",
       "    }\n",
       "</style>\n",
       "<table border=\"1\" class=\"dataframe\">\n",
       "  <thead>\n",
       "    <tr style=\"text-align: right;\">\n",
       "      <th></th>\n",
       "      <th>수학</th>\n",
       "      <th>코딩</th>\n",
       "      <th>영어</th>\n",
       "      <th>성별</th>\n",
       "      <th>합격</th>\n",
       "      <th>음악</th>\n",
       "    </tr>\n",
       "  </thead>\n",
       "  <tbody>\n",
       "    <tr>\n",
       "      <th>0</th>\n",
       "      <td>90</td>\n",
       "      <td>50</td>\n",
       "      <td>98</td>\n",
       "      <td>남</td>\n",
       "      <td>True</td>\n",
       "      <td>100</td>\n",
       "    </tr>\n",
       "    <tr>\n",
       "      <th>1</th>\n",
       "      <td>80</td>\n",
       "      <td>80</td>\n",
       "      <td>89</td>\n",
       "      <td>남</td>\n",
       "      <td>False</td>\n",
       "      <td>90</td>\n",
       "    </tr>\n",
       "    <tr>\n",
       "      <th>2</th>\n",
       "      <td>90</td>\n",
       "      <td>100</td>\n",
       "      <td>95</td>\n",
       "      <td>여</td>\n",
       "      <td>True</td>\n",
       "      <td>80</td>\n",
       "    </tr>\n",
       "    <tr>\n",
       "      <th>3</th>\n",
       "      <td>60</td>\n",
       "      <td>90</td>\n",
       "      <td>80</td>\n",
       "      <td>여</td>\n",
       "      <td>False</td>\n",
       "      <td>100</td>\n",
       "    </tr>\n",
       "  </tbody>\n",
       "</table>\n",
       "</div>"
      ],
      "text/plain": [
       "   수학   코딩  영어 성별     합격   음악\n",
       "0  90   50  98  남   True  100\n",
       "1  80   80  89  남  False   90\n",
       "2  90  100  95  여   True   80\n",
       "3  60   90  80  여  False  100"
      ]
     },
     "execution_count": 70,
     "metadata": {},
     "output_type": "execute_result"
    }
   ],
   "source": [
    "## 행과 열 추가\n",
    "print(exam_df)\n",
    "\n",
    "## 열 추가\n",
    "exam_df[\"음악\"] = [100, 90, 80]\n",
    "# exam_df.insert(1, \"코딩\", [50, 80, 100])\n",
    "exam_df\n",
    "\n",
    "## 행 추가\n",
    "exam_df.loc[3] = [60, 90, 80, \"여\", False, 100]\n",
    "exam_df"
   ]
  },
  {
   "cell_type": "code",
   "execution_count": 75,
   "metadata": {},
   "outputs": [
    {
     "name": "stdout",
     "output_type": "stream",
     "text": [
      "   수학  코딩  영어 성별     합격   음악\n",
      "0  90  50  98  남   True  100\n",
      "1  80  80  89  남  False   90\n",
      "2  90   0   0  여   True   80\n",
      "3  60   0  80  여  False  100\n",
      "   수학  코딩  영어 성별     합격   음악\n",
      "0  90  50  98  남   True  100\n",
      "1  80  80  89  남  False   90\n",
      "2  90   0   0  여   True   80\n",
      "3  60   0  80  여  False  100\n",
      "   수학     코딩     영어 성별     합격   음악\n",
      "0  90     50     98  남   True  100\n",
      "1  80     80     89  남  False   90\n",
      "2  90  10000  20000  여   True   80\n",
      "3  60      0     80  여  False  100\n"
     ]
    }
   ],
   "source": [
    "# 데이터 값 바꾸기\n",
    "print(exam_df)\n",
    "\n",
    "exam_df.loc[3, \"코딩\"] = 0\n",
    "print(exam_df)\n",
    "\n",
    "exam_df.loc[2, \"코딩\":\"영어\"] = [10000, 20000]\n",
    "print(exam_df)"
   ]
  },
  {
   "cell_type": "code",
   "execution_count": 79,
   "metadata": {},
   "outputs": [
    {
     "name": "stdout",
     "output_type": "stream",
     "text": [
      "   hdz  chestpain  cholesterol  sysbp\n",
      "0  yes       True          208    160\n",
      "1   no      False          282    140\n",
      "2   no      False          235    188\n",
      "3   no       True          277    162\n",
      "4  yes      False          280  10000\n",
      "**************************************************\n",
      "   hdz  chestpain  cholesterol  sysbp\n",
      "0  yes       True          208    160\n",
      "1   no      False          282      1\n",
      "2   no      False          235      2\n",
      "3   no       True          277      3\n",
      "4  yes      False          280  10000\n"
     ]
    }
   ],
   "source": [
    "df = pd.DataFrame({\n",
    "    'hdz':['yes', 'no', 'no', 'no', 'yes'],\n",
    "    'chestpain': [True, False, False, True, False],\n",
    "    'cholesterol':[208, 282, 235, 277, 280],\n",
    "    'sysbp':[160, 140, 188, 162, 122]\n",
    "}, index = np.arange(5))\n",
    "df\n",
    "\n",
    "#  hdz  chestpain  cholesterol  sysbp\n",
    "# 0  yes       True          208    160\n",
    "# 1   no      False          282    140\n",
    "# 2   no      False          235    188\n",
    "# 3   no       True          277    162\n",
    "# 4  yes      False          280  10000\n",
    "df.loc[4, \"sysbp\"] = 10000\n",
    "print(df)\n",
    "\n",
    "#    hdz  chestpain  cholesterol  sysbp\n",
    "# 0  yes       True          208    160\n",
    "# 1   no      False          282      1\n",
    "# 2   no      False          235      2\n",
    "# 33   no       True          277      3\n",
    "# 4  yes      False          280  10000\n",
    "print(\"*\"*50)\n",
    "df.loc[1:3, \"sysbp\"] = [1, 2, 3]\n",
    "print(df)"
   ]
  },
  {
   "cell_type": "code",
   "execution_count": 84,
   "metadata": {},
   "outputs": [
    {
     "name": "stdout",
     "output_type": "stream",
     "text": [
      "    c0  c1  c2  c3  c4\n",
      "r0   1   4   7  10  13\n",
      "r1   2   5   8  11  14\n",
      "r2   3   6   9  12  15\n",
      "**************************************************\n",
      "    c1  c2  c3  c4\n",
      "c0                \n",
      "1    4   7  10  13\n",
      "2    5   8  11  14\n",
      "3    6   9  12  15\n",
      "**************************************************\n",
      "   c0  c1  c2  c3  c4\n",
      "0   1   4   7  10  13\n",
      "1   2   5   8  11  14\n",
      "2   3   6   9  12  15\n"
     ]
    }
   ],
   "source": [
    "dict_data = {\n",
    "    \"c0\":np.arange(1, 4),\n",
    "    \"c1\":np.arange(4, 7),\n",
    "    \"c2\":np.arange(7, 10),\n",
    "    \"c3\":np.arange(10, 13),\n",
    "    \"c4\":np.arange(13, 16),\n",
    "}\n",
    "df = pd.DataFrame(dict_data, index = [\"r0\", \"r1\", \"r2\"])\n",
    "print(df)\n",
    "\n",
    "print(\"*\"*50)\n",
    "df.set_index(\"c0\", inplace =True)\n",
    "print(df)\n",
    "\n",
    "print(\"*\"*50)\n",
    "df.reset_index(inplace = True)\n",
    "print(df)"
   ]
  },
  {
   "cell_type": "code",
   "execution_count": 91,
   "metadata": {},
   "outputs": [
    {
     "name": "stdout",
     "output_type": "stream",
     "text": [
      "./dataset\n",
      "vor_r.xlsx\n",
      "./dataset\\vor_r.xlsx\n",
      "    group  id    time    hz0.04    hz0.08     hz0.1    hz0.16    hz0.32  \\\n",
      "0       1   1     Pre  0.213840  0.717955  0.848727  0.850790  0.802738   \n",
      "1       1   2     Pre  0.345725  0.795440  0.781473  0.924972  0.801245   \n",
      "2       1   3     Pre  0.376285  0.799327  0.781350  0.777773  0.868007   \n",
      "3       1   4     Pre  0.451440  0.771083  0.808645  0.787825  0.839985   \n",
      "4       1   5     Pre  0.287360  0.825547  0.831303  0.818332  0.817320   \n",
      "..    ...  ..     ...       ...       ...       ...       ...       ...   \n",
      "59      2  12  Post14  0.079660  0.237193  0.471418  0.474830  0.585082   \n",
      "60      2  13  Post14  0.085117  0.387700  0.403857  0.583710  0.665262   \n",
      "61      2  14  Post14  0.058188  0.399475  0.467535  0.648505  0.657350   \n",
      "62      2  15  Post14  0.098390  0.357222  0.478880  0.456372  0.536233   \n",
      "63      2  16  Post14  0.117395  0.449813  0.472043  0.571655  0.690753   \n",
      "\n",
      "      hz0.64       hz1  \n",
      "0   0.808393  0.738967  \n",
      "1   0.803880  0.781420  \n",
      "2   0.868853  0.754252  \n",
      "3   0.832352  0.818722  \n",
      "4   0.816153  0.836298  \n",
      "..       ...       ...  \n",
      "59  0.660957  0.623650  \n",
      "60  0.690318  0.652092  \n",
      "61  0.660045  0.586642  \n",
      "62  0.629415  0.627395  \n",
      "63  0.678215  0.658850  \n",
      "\n",
      "[64 rows x 10 columns]\n",
      "    group    time    hz0.04    hz0.08     hz0.1    hz0.16    hz0.32    hz0.64  \\\n",
      "id                                                                              \n",
      "1       1     Pre  0.213840  0.717955  0.848727  0.850790  0.802738  0.808393   \n",
      "2       1     Pre  0.345725  0.795440  0.781473  0.924972  0.801245  0.803880   \n",
      "3       1     Pre  0.376285  0.799327  0.781350  0.777773  0.868007  0.868853   \n",
      "4       1     Pre  0.451440  0.771083  0.808645  0.787825  0.839985  0.832352   \n",
      "5       1     Pre  0.287360  0.825547  0.831303  0.818332  0.817320  0.816153   \n",
      "..    ...     ...       ...       ...       ...       ...       ...       ...   \n",
      "12      2  Post14  0.079660  0.237193  0.471418  0.474830  0.585082  0.660957   \n",
      "13      2  Post14  0.085117  0.387700  0.403857  0.583710  0.665262  0.690318   \n",
      "14      2  Post14  0.058188  0.399475  0.467535  0.648505  0.657350  0.660045   \n",
      "15      2  Post14  0.098390  0.357222  0.478880  0.456372  0.536233  0.629415   \n",
      "16      2  Post14  0.117395  0.449813  0.472043  0.571655  0.690753  0.678215   \n",
      "\n",
      "         hz1  \n",
      "id            \n",
      "1   0.738967  \n",
      "2   0.781420  \n",
      "3   0.754252  \n",
      "4   0.818722  \n",
      "5   0.836298  \n",
      "..       ...  \n",
      "12  0.623650  \n",
      "13  0.652092  \n",
      "14  0.586642  \n",
      "15  0.627395  \n",
      "16  0.658850  \n",
      "\n",
      "[64 rows x 9 columns]\n",
      "    group    time    hz0.04    hz0.08     hz0.1    hz0.16    hz0.32    hz0.64  \\\n",
      "id                                                                              \n",
      "1       1     Pre  0.213840  0.717955  0.848727  0.850790  0.802738  0.808393   \n",
      "2       1     Pre  0.345725  0.795440  0.781473  0.924972  0.801245  0.803880   \n",
      "3       1     Pre  0.376285  0.799327  0.781350  0.777773  0.868007  0.868853   \n",
      "4       1     Pre  0.451440  0.771083  0.808645  0.787825  0.839985  0.832352   \n",
      "5       1     Pre  0.287360  0.825547  0.831303  0.818332  0.817320  0.816153   \n",
      "..    ...     ...       ...       ...       ...       ...       ...       ...   \n",
      "12      2  Post14  0.079660  0.237193  0.471418  0.474830  0.585082  0.660957   \n",
      "13      2  Post14  0.085117  0.387700  0.403857  0.583710  0.665262  0.690318   \n",
      "14      2  Post14  0.058188  0.399475  0.467535  0.648505  0.657350  0.660045   \n",
      "15      2  Post14  0.098390  0.357222  0.478880  0.456372  0.536233  0.629415   \n",
      "16      2  Post14  0.117395  0.449813  0.472043  0.571655  0.690753  0.678215   \n",
      "\n",
      "         hz1  \n",
      "id            \n",
      "1   0.738967  \n",
      "2   0.781420  \n",
      "3   0.754252  \n",
      "4   0.818722  \n",
      "5   0.836298  \n",
      "..       ...  \n",
      "12  0.623650  \n",
      "13  0.652092  \n",
      "14  0.586642  \n",
      "15  0.627395  \n",
      "16  0.658850  \n",
      "\n",
      "[64 rows x 9 columns]\n"
     ]
    }
   ],
   "source": [
    "print(fpath)\n",
    "print(fname)\n",
    "print(file)\n",
    "\n",
    "vor = pd.read_excel(file)\n",
    "print(vor)\n",
    "vor.set_index(\"id\", inplace = True)\n",
    "print(vor)\n",
    "vor.reset_index()\n",
    "print(vor)"
   ]
  }
 ],
 "metadata": {
  "kernelspec": {
   "display_name": "saerom_py3.10",
   "language": "python",
   "name": "python3"
  },
  "language_info": {
   "codemirror_mode": {
    "name": "ipython",
    "version": 3
   },
   "file_extension": ".py",
   "mimetype": "text/x-python",
   "name": "python",
   "nbconvert_exporter": "python",
   "pygments_lexer": "ipython3",
   "version": "3.10.14"
  }
 },
 "nbformat": 4,
 "nbformat_minor": 2
}
